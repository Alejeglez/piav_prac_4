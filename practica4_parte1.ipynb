{
 "cells": [
  {
   "cell_type": "code",
   "execution_count": 55,
   "metadata": {},
   "outputs": [],
   "source": [
    "import numpy as np\n",
    "from scipy.fft import fft, fftfreq\n",
    "from scipy.signal import find_peaks\n",
    "from scipy.io import wavfile\n",
    "import matplotlib.pyplot as plt\n",
    "import soundfile as sf\n",
    "import librosa"
   ]
  },
  {
   "cell_type": "markdown",
   "metadata": {},
   "source": [
    "#### Lectura de archivos"
   ]
  },
  {
   "cell_type": "code",
   "execution_count": 56,
   "metadata": {},
   "outputs": [],
   "source": [
    "def read_file(file):\n",
    "    if file.endswith('.wav'):\n",
    "        sr, data = wavfile.read(file)\n",
    "    \n",
    "    elif file.endswith('.mp3'):\n",
    "        data, sr = librosa.load(file)\n",
    "\n",
    "    else:\n",
    "        raise ValueError('File format not supported')\n",
    "    \n",
    "    data = data[:,0] if len(data.shape) > 1 else data\n",
    "\n",
    "    return data, sr"
   ]
  },
  {
   "cell_type": "code",
   "execution_count": 57,
   "metadata": {},
   "outputs": [],
   "source": [
    "carpeta_archivos_wav = \"piano-88-notes\"\n",
    "carpeta_archivos_mp3 = \"gleitz midi-js-soundfonts gh-pages FluidR3_GM-acoustic_grand_piano-mp3\""
   ]
  },
  {
   "cell_type": "markdown",
   "metadata": {},
   "source": [
    "#### Diccionario Notas"
   ]
  },
  {
   "cell_type": "code",
   "execution_count": 58,
   "metadata": {},
   "outputs": [],
   "source": [
    "notas_basicas = {\n",
    "    \"Do\": 261.63,\n",
    "    \"Re\": 293.66,\n",
    "    \"Mi\": 329.63,\n",
    "    \"Fa\": 349.23,\n",
    "    \"Sol\": 392.00,\n",
    "    \"La\": 440.00,\n",
    "    \"Si\": 493.88,\n",
    "    r\"Do sostenido / Re bemol\": 277.18,\n",
    "    r\"Re sostenido / Mi bemol\": 311.13,\n",
    "    r\"Fa sostenido / Sol bemol\": 369.99,\n",
    "    r\"Sol sostenido / La bemol\": 415.30,\n",
    "    r\"La sostenido / Si bemol\": 466.16\n",
    "}"
   ]
  },
  {
   "cell_type": "code",
   "execution_count": 59,
   "metadata": {},
   "outputs": [],
   "source": [
    "archivos_mp3 = [\"A4.mp3\", \"B4.mp3\", \"C4.mp3\", \"D4.mp3\", \"E4.mp3\", \"F4.mp3\", \"G4.mp3\", \"Bb4.mp3\", \"Db4.mp3\", \"Eb4.mp3\", \"Gb4.mp3\", \"Ab4.mp3\"]\n",
    "archivos_wav = [\"4-a.wav\", \"4-b.wav\", \"4-c.wav\", \"4-d.wav\", \"4-e.wav\", \"4-f.wav\", \"4-g.wav\", \"4-as.wav\", \"4-cs.wav\", \"4-ds.wav\", \"4-fs.wav\", \"4-gs.wav\"]"
   ]
  },
  {
   "cell_type": "code",
   "execution_count": 60,
   "metadata": {},
   "outputs": [],
   "source": [
    "notas_correctas_mp3 = {\n",
    "    \"A4.mp3\": \"La\",\n",
    "    \"B4.mp3\": \"Si\",\n",
    "    \"C4.mp3\": \"Do\",\n",
    "    \"D4.mp3\": \"Re\",\n",
    "    \"E4.mp3\": \"Mi\",\n",
    "    \"F4.mp3\": \"Fa\",\n",
    "    \"G4.mp3\": \"Sol\",\n",
    "    \"Bb4.mp3\": r\"La sostenido / Si bemol\",\n",
    "    \"Db4.mp3\": r\"Do sostenido / Re bemol\",\n",
    "    \"Eb4.mp3\": r\"Re sostenido / Mi bemol\",\n",
    "    \"Gb4.mp3\": r\"Fa sostenido / Sol bemol\",\n",
    "    \"Ab4.mp3\": r\"Sol sostenido / La bemol\"\n",
    "}\n",
    "\n",
    "notas_correctas_wav = {\n",
    "    \"4-a.wav\": \"La\",\n",
    "    \"4-b.wav\": \"Si\",\n",
    "    \"4-c.wav\": \"Do\",\n",
    "    \"4-d.wav\": \"Re\",\n",
    "    \"4-e.wav\": \"Mi\",\n",
    "    \"4-f.wav\": \"Fa\",\n",
    "    \"4-g.wav\": \"Sol\",\n",
    "    \"4-as.wav\": r\"La sostenido / Si bemol\",\n",
    "    \"4-cs.wav\": r\"Do sostenido / Re bemol\",\n",
    "    \"4-ds.wav\": r\"Re sostenido / Mi bemol\",\n",
    "    \"4-fs.wav\": r\"Fa sostenido / Sol bemol\",\n",
    "    \"4-gs.wav\": r\"Sol sostenido / La bemol\"\n",
    "}"
   ]
  },
  {
   "cell_type": "markdown",
   "metadata": {},
   "source": [
    "#### Funciones para detectar notas"
   ]
  },
  {
   "cell_type": "code",
   "execution_count": 61,
   "metadata": {},
   "outputs": [],
   "source": [
    "def detectar_picos(Y, umbral=0.01):\n",
    "    peaks, _ = find_peaks(Y, height=umbral)\n",
    "    return peaks\n",
    "\n",
    "def calcular_umbral_maximo(yf, porcentaje=0.1):\n",
    "    umbral = porcentaje * np.max(yf)\n",
    "    return umbral\n",
    "\n",
    "def apply_fft(data, sr):\n",
    "    N = len(data)\n",
    "    T = 1.0 / sr\n",
    "    yf = fft(data)\n",
    "    xf = fftfreq(N, T)[:N//2]\n",
    "    yf = 2.0/N * np.abs(yf[0:N//2])\n",
    "    return xf, yf\n",
    "\n",
    "def get_nearest_note(fundamental_freq, dict_notas):\n",
    "    nearest_note = min(dict_notas, key=lambda nota: abs(dict_notas[nota] - fundamental_freq))\n",
    "    frecuencia_mas_cercana = dict_notas[nearest_note]\n",
    "    return nearest_note, frecuencia_mas_cercana\n",
    "\n",
    "def plot_fft(xf, yf, peaks):\n",
    "    plt.figure()\n",
    "    plt.plot(xf, yf)\n",
    "    plt.plot(xf[peaks], yf[peaks], \"x\")\n",
    "    plt.grid()\n",
    "    plt.title(\"FFT\")\n",
    "    plt.xlabel(\"Frecuencia (Hz)\")\n",
    "    plt.ylabel(\"Amplitud\")\n",
    "    plt.show()\n",
    "\n",
    "def plot_signal(data):\n",
    "    plt.figure()\n",
    "    plt.plot(data)\n",
    "    plt.grid()\n",
    "    plt.title(\"Señal\")\n",
    "    plt.xlabel(\"Tiempo\")\n",
    "    plt.ylabel(\"Amplitud\")\n",
    "    plt.show()"
   ]
  },
  {
   "cell_type": "markdown",
   "metadata": {},
   "source": [
    "#### Para archivos mp3"
   ]
  },
  {
   "cell_type": "code",
   "execution_count": 62,
   "metadata": {},
   "outputs": [
    {
     "name": "stdout",
     "output_type": "stream",
     "text": [
      "Archivo: A4.mp3 Fundamental: 440.0923295454545 Hz Nota: La Frecuencia más cercana: 440.0 Hz\n",
      "------------------------\n",
      "Archivo: B4.mp3 Fundamental: 489.6306818181818 Hz Nota: Si Frecuencia más cercana: 493.88 Hz\n",
      "------------------------\n",
      "Archivo: C4.mp3 Fundamental: 261.43465909090907 Hz Nota: Do Frecuencia más cercana: 261.63 Hz\n",
      "------------------------\n",
      "Archivo: D4.mp3 Fundamental: 293.3948863636363 Hz Nota: Re Frecuencia más cercana: 293.66 Hz\n",
      "------------------------\n",
      "Archivo: E4.mp3 Fundamental: 327.5923295454545 Hz Nota: Mi Frecuencia más cercana: 329.63 Hz\n",
      "------------------------\n",
      "Archivo: F4.mp3 Fundamental: 349.0056818181818 Hz Nota: Fa Frecuencia más cercana: 349.23 Hz\n",
      "------------------------\n",
      "Archivo: G4.mp3 Fundamental: 392.1519886363636 Hz Nota: Sol Frecuencia más cercana: 392.0 Hz\n",
      "------------------------\n",
      "Archivo: Bb4.mp3 Fundamental: 466.2997159090909 Hz Nota: La sostenido / Si bemol Frecuencia más cercana: 466.16 Hz\n",
      "------------------------\n",
      "Archivo: Db4.mp3 Fundamental: 277.09517045454544 Hz Nota: Do sostenido / Re bemol Frecuencia más cercana: 277.18 Hz\n",
      "------------------------\n",
      "Archivo: Eb4.mp3 Fundamental: 310.9730113636363 Hz Nota: Re sostenido / Mi bemol Frecuencia más cercana: 311.13 Hz\n",
      "------------------------\n",
      "Archivo: Gb4.mp3 Fundamental: 367.8622159090909 Hz Nota: Fa sostenido / Sol bemol Frecuencia más cercana: 369.99 Hz\n",
      "------------------------\n",
      "Archivo: Ab4.mp3 Fundamental: 415.4829545454545 Hz Nota: Sol sostenido / La bemol Frecuencia más cercana: 415.3 Hz\n",
      "------------------------\n",
      "Correctas: 12/12\n"
     ]
    }
   ],
   "source": [
    "correctas = 0\n",
    "\n",
    "for archivo in archivos_mp3:\n",
    "    data, sr = read_file(f\"{carpeta_archivos_mp3}/{archivo}\")\n",
    "    #plot_signal(data)\n",
    "    xf, yf = apply_fft(data, sr)\n",
    "    umbral = calcular_umbral_maximo(yf)\n",
    "    peaks = detectar_picos(yf, umbral=umbral)\n",
    "    #plot_fft(xf, yf, peaks)\n",
    "    fundamental_freq = xf[peaks[0]]\n",
    "    nearest_note, frecuencia_mas_cercana = get_nearest_note(fundamental_freq, notas_basicas)\n",
    "\n",
    "    if nearest_note == notas_correctas_mp3[archivo]:\n",
    "        correctas += 1\n",
    "    \n",
    "    else:\n",
    "        print(\"Fallo archivo:\", archivo, \"Nota detectada:\", nearest_note, \"Nota correcta:\", notas_correctas_mp3[archivo])\n",
    "\n",
    "    print(f\"Archivo: {archivo}\", f\"Fundamental: {fundamental_freq} Hz\", f\"Nota: {nearest_note}\", f\"Frecuencia más cercana: {frecuencia_mas_cercana} Hz\")\n",
    "    print(\"------------------------\")\n",
    "\n",
    "print(f\"Correctas: {correctas}/{len(archivos_mp3)}\")"
   ]
  },
  {
   "cell_type": "markdown",
   "metadata": {},
   "source": [
    "#### Para archivos .wav"
   ]
  },
  {
   "cell_type": "code",
   "execution_count": 63,
   "metadata": {},
   "outputs": [
    {
     "name": "stdout",
     "output_type": "stream",
     "text": [
      "Archivo: 4-a.wav Fundamental: 439.8 Hz Nota: La Frecuencia más cercana: 440.0 Hz\n",
      "------------------------\n",
      "Archivo: 4-b.wav Fundamental: 493.75 Hz Nota: Si Frecuencia más cercana: 493.88 Hz\n",
      "------------------------\n",
      "Archivo: 4-c.wav Fundamental: 261.5 Hz Nota: Do Frecuencia más cercana: 261.63 Hz\n",
      "------------------------\n",
      "Archivo: 4-d.wav Fundamental: 293.5 Hz Nota: Re Frecuencia más cercana: 293.66 Hz\n",
      "------------------------\n",
      "Archivo: 4-e.wav Fundamental: 329.5 Hz Nota: Mi Frecuencia más cercana: 329.63 Hz\n",
      "------------------------\n",
      "Archivo: 4-f.wav Fundamental: 349.0 Hz Nota: Fa Frecuencia más cercana: 349.23 Hz\n",
      "------------------------\n",
      "Archivo: 4-g.wav Fundamental: 391.8 Hz Nota: Sol Frecuencia más cercana: 392.0 Hz\n",
      "------------------------\n",
      "Archivo: 4-as.wav Fundamental: 466.0 Hz Nota: La sostenido / Si bemol Frecuencia más cercana: 466.16 Hz\n",
      "------------------------\n",
      "Archivo: 4-cs.wav Fundamental: 277.0 Hz Nota: Do sostenido / Re bemol Frecuencia más cercana: 277.18 Hz\n",
      "------------------------\n",
      "Archivo: 4-ds.wav Fundamental: 311.0 Hz Nota: Re sostenido / Mi bemol Frecuencia más cercana: 311.13 Hz\n",
      "------------------------\n"
     ]
    },
    {
     "name": "stderr",
     "output_type": "stream",
     "text": [
      "C:\\Users\\Alejandro\\AppData\\Local\\Temp\\ipykernel_12352\\1525891727.py:3: WavFileWarning: Chunk (non-data) not understood, skipping it.\n",
      "  sr, data = wavfile.read(file)\n"
     ]
    },
    {
     "name": "stdout",
     "output_type": "stream",
     "text": [
      "Archivo: 4-fs.wav Fundamental: 369.8 Hz Nota: Fa sostenido / Sol bemol Frecuencia más cercana: 369.99 Hz\n",
      "------------------------\n",
      "Archivo: 4-gs.wav Fundamental: 415.20000000000005 Hz Nota: Sol sostenido / La bemol Frecuencia más cercana: 415.3 Hz\n",
      "------------------------\n",
      "Correctas: 12/12\n"
     ]
    }
   ],
   "source": [
    "correctas = 0\n",
    "\n",
    "for archivo in archivos_wav:\n",
    "    data, sr = read_file(f\"{carpeta_archivos_wav}/{archivo}\")\n",
    "    #plot_signal(data)\n",
    "    xf, yf = apply_fft(data, sr)\n",
    "    umbral = calcular_umbral_maximo(yf)\n",
    "    peaks = detectar_picos(yf, umbral=umbral)\n",
    "    #plot_fft(xf, yf, peaks)\n",
    "    fundamental_freq = xf[peaks[0]]\n",
    "    nearest_note, frecuencia_mas_cercana = get_nearest_note(fundamental_freq, notas_basicas)\n",
    "\n",
    "    if nearest_note == notas_correctas_wav[archivo]:\n",
    "        correctas += 1\n",
    "\n",
    "    print(f\"Archivo: {archivo}\", f\"Fundamental: {fundamental_freq} Hz\", f\"Nota: {nearest_note}\", f\"Frecuencia más cercana: {frecuencia_mas_cercana} Hz\")\n",
    "    print(\"------------------------\")\n",
    "\n",
    "print(f\"Correctas: {correctas}/{len(archivos_wav)}\")"
   ]
  },
  {
   "cell_type": "markdown",
   "metadata": {},
   "source": [
    "### Detección de Octavas"
   ]
  },
  {
   "cell_type": "markdown",
   "metadata": {},
   "source": [
    "#### Diccionario con octavas"
   ]
  },
  {
   "cell_type": "code",
   "execution_count": 64,
   "metadata": {},
   "outputs": [],
   "source": [
    "notas_con_octavas = {\n",
    "    \"Do4\": 261.63,\n",
    "    \"Re4\": 293.66,\n",
    "    \"Mi4\": 329.63,\n",
    "    \"Fa4\": 349.23,\n",
    "    \"Sol4\": 392.00,\n",
    "    \"La4\": 440.00,\n",
    "    \"Si4\": 493.88,\n",
    "    r\"Do sostenido / Re bemol 4\": 277.18,\n",
    "    r\"Re sostenido / Mi bemol 4\": 311.13,\n",
    "    r\"Fa sostenido / Sol bemol 4\": 369.99,\n",
    "    r\"Sol sostenido / La bemol 4\": 415.30,\n",
    "    r\"La sostenido / Si bemol 4\": 466.16,\n",
    "    \"Do1\": 32.70,\n",
    "    \"Re1\": 36.71,\n",
    "    \"Mi1\": 41.20,\n",
    "    \"Fa1\": 43.65,\n",
    "    \"Sol1\": 49.00,\n",
    "    \"La1\": 55.00,\n",
    "    \"Si1\": 61.74,\n",
    "    r\"Do sostenido / Re bemol 1\": 34.65,\n",
    "    r\"Re sostenido / Mi bemol 1\": 38.89,\n",
    "    r\"Fa sostenido / Sol bemol 1\": 46.25,\n",
    "    r\"Sol sostenido / La bemol 1\": 51.91,\n",
    "    r\"La sostenido / Si bemol 1\": 58.27,\n",
    "    \"Do2\": 65.41,\n",
    "    \"Re2\": 73.42,\n",
    "    \"Mi2\": 82.41,\n",
    "    \"Fa2\": 87.31,\n",
    "    \"Sol2\": 98.00,\n",
    "    \"La2\": 110.00,\n",
    "    \"Si2\": 123.47,\n",
    "    r\"Do sostenido / Re bemol 2\": 69.30,\n",
    "    r\"Re sostenido / Mi bemol 2\": 77.78,\n",
    "    r\"Fa sostenido / Sol bemol 2\": 92.50,\n",
    "    r\"Sol sostenido / La bemol 2\": 103.83,\n",
    "    r\"La sostenido / Si bemol 2\": 116.54,\n",
    "    \"Do3\": 130.81,\n",
    "    \"Re3\": 146.83,\n",
    "    \"Mi3\": 164.81,\n",
    "    \"Fa3\": 174.61,\n",
    "    \"Sol3\": 196.00,\n",
    "    \"La3\": 220.00,\n",
    "    \"Si3\": 246.94,\n",
    "    r\"Do sostenido / Re bemol 3\": 138.59,\n",
    "    r\"Re sostenido / Mi bemol 3\": 155.56,\n",
    "    r\"Fa sostenido / Sol bemol 3\": 185.00,\n",
    "    r\"Sol sostenido / La bemol 3\": 207.65,\n",
    "    r\"La sostenido / Si bemol 3\": 233.08,\n",
    "    \"Do5\": 523.25,\n",
    "    \"Re5\": 587.33,\n",
    "    \"Mi5\": 659.26,\n",
    "    \"Fa5\": 698.46,\n",
    "    \"Sol5\": 783.99,\n",
    "    \"La5\": 880.00,\n",
    "    \"Si5\": 987.77,\n",
    "    r\"Do sostenido / Re bemol 5\": 554.37,\n",
    "    r\"Re sostenido / Mi bemol 5\": 622.25,\n",
    "    r\"Fa sostenido / Sol bemol 5\": 739.99,\n",
    "    r\"Sol sostenido / La bemol 5\": 830.61,\n",
    "    r\"La sostenido / Si bemol 5\": 932.33,\n",
    "    \"Do6\": 1046.50,\n",
    "    \"Re6\": 1174.66,\n",
    "    \"Mi6\": 1318.51,\n",
    "    \"Fa6\": 1396.91,\n",
    "    \"Sol6\": 1567.98,\n",
    "    \"La6\": 1760.00,\n",
    "    \"Si6\": 1975.53,\n",
    "    r\"Do sostenido / Re bemol 6\": 1108.73,\n",
    "    r\"Re sostenido / Mi bemol 6\": 1244.51,\n",
    "    r\"Fa sostenido / Sol bemol 6\": 1479.98,\n",
    "    r\"Sol sostenido / La bemol 6\": 1661.22,\n",
    "    r\"La sostenido / Si bemol 6\": 1864.66,\n",
    "    \"Do7\": 2093.00,\n",
    "    \"Re7\": 2349.32,\n",
    "    \"Mi7\": 2637.02,\n",
    "    \"Fa7\": 2793.83,\n",
    "    \"Sol7\": 3135.96,\n",
    "    \"La7\": 3520.00,\n",
    "    \"Si7\": 3951.07,\n",
    "    r\"Do sostenido / Re bemol 7\": 2217.46,\n",
    "    r\"Re sostenido / Mi bemol 7\": 2489.02,\n",
    "    r\"Fa sostenido / Sol bemol 7\": 2959.96,\n",
    "    r\"Sol sostenido / La bemol 7\": 3322.44,\n",
    "    r\"La sostenido / Si bemol 7\": 3729.31,\n",
    "    \"Do0\": 16.35,\n",
    "    \"Re0\": 18.35,\n",
    "    \"Mi0\": 20.60,\n",
    "    \"Fa0\": 21.83,\n",
    "    \"Sol0\": 24.50,\n",
    "    \"La0\": 27.50,\n",
    "    \"Si0\": 30.87,\n",
    "    r\"Do sostenido / Re bemol 0\": 17.32,\n",
    "    r\"Re sostenido / Mi bemol 0\": 19.45,\n",
    "    r\"Fa sostenido / Sol bemol 0\": 23.12,\n",
    "    r\"Sol sostenido / La bemol 0\": 25.96,\n",
    "    r\"La sostenido / Si bemol 0\": 29.14,\n",
    "    \"Do8\": 4186.01,\n",
    "}"
   ]
  },
  {
   "cell_type": "code",
   "execution_count": 65,
   "metadata": {},
   "outputs": [],
   "source": [
    "notas_correctas_mp3_completo = {\n",
    "    \"A4.mp3\": \"La4\", \"B4.mp3\": \"Si4\", \"C4.mp3\": \"Do4\", \"D4.mp3\": \"Re4\", \"E4.mp3\": \"Mi4\", \n",
    "    \"F4.mp3\": \"Fa4\", \"G4.mp3\": \"Sol4\", \"Bb4.mp3\": r\"La sostenido / Si bemol 4\", \n",
    "    \"Db4.mp3\": r\"Do sostenido / Re bemol 4\", \"Eb4.mp3\": r\"Re sostenido / Mi bemol 4\", \n",
    "    \"Gb4.mp3\": r\"Fa sostenido / Sol bemol 4\", \"Ab4.mp3\": r\"Sol sostenido / La bemol 4\",\n",
    "\n",
    "    \"A3.mp3\": \"La3\", \"B3.mp3\": \"Si3\", \"C3.mp3\": \"Do3\", \"D3.mp3\": \"Re3\", \"E3.mp3\": \"Mi3\", \n",
    "    \"F3.mp3\": \"Fa3\", \"G3.mp3\": \"Sol3\", \"Bb3.mp3\": r\"La sostenido / Si bemol 3\", \n",
    "    \"Db3.mp3\": r\"Do sostenido / Re bemol 3\", \"Eb3.mp3\": r\"Re sostenido / Mi bemol 3\", \n",
    "    \"Gb3.mp3\": r\"Fa sostenido / Sol bemol 3\", \"Ab3.mp3\": r\"Sol sostenido / La bemol 3\",\n",
    "\n",
    "    \"A5.mp3\": \"La5\", \"B5.mp3\": \"Si5\", \"C5.mp3\": \"Do5\", \"D5.mp3\": \"Re5\", \"E5.mp3\": \"Mi5\", \n",
    "    \"F5.mp3\": \"Fa5\", \"G5.mp3\": \"Sol5\", \"Bb5.mp3\": r\"La sostenido / Si bemol 5\", \n",
    "    \"Db5.mp3\": r\"Do sostenido / Re bemol 5\", \"Eb5.mp3\": r\"Re sostenido / Mi bemol 5\", \n",
    "    \"Gb5.mp3\": r\"Fa sostenido / Sol bemol 5\", \"Ab5.mp3\": r\"Sol sostenido / La bemol 5\",\n",
    "\n",
    "    \"A2.mp3\": \"La2\", \"B2.mp3\": \"Si2\", \"C2.mp3\": \"Do2\", \"D2.mp3\": \"Re2\", \"E2.mp3\": \"Mi2\", \n",
    "    \"F2.mp3\": \"Fa2\", \"G2.mp3\": \"Sol2\", \"Bb2.mp3\": r\"La sostenido / Si bemol 2\", \n",
    "    \"Db2.mp3\": r\"Do sostenido / Re bemol 2\", \"Eb2.mp3\": r\"Re sostenido / Mi bemol 2\", \n",
    "    \"Gb2.mp3\": r\"Fa sostenido / Sol bemol 2\", \"Ab2.mp3\": r\"Sol sostenido / La bemol 2\",\n",
    "\n",
    "    \"A1.mp3\": \"La1\", \"B1.mp3\": \"Si1\", \"C1.mp3\": \"Do1\", \"D1.mp3\": \"Re1\", \"E1.mp3\": \"Mi1\", \n",
    "    \"F1.mp3\": \"Fa1\", \"G1.mp3\": \"Sol1\", \"Bb1.mp3\": r\"La sostenido / Si bemol 1\", \n",
    "    \"Db1.mp3\": r\"Do sostenido / Re bemol 1\", \"Eb1.mp3\": r\"Re sostenido / Mi bemol 1\", \n",
    "    \"Gb1.mp3\": r\"Fa sostenido / Sol bemol 1\", \"Ab1.mp3\": r\"Sol sostenido / La bemol 1\",\n",
    "\n",
    "    \"A6.mp3\": \"La6\", \"B6.mp3\": \"Si6\", \"C6.mp3\": \"Do6\", \"D6.mp3\": \"Re6\", \"E6.mp3\": \"Mi6\", \n",
    "    \"F6.mp3\": \"Fa6\", \"G6.mp3\": \"Sol6\", \"Bb6.mp3\": r\"La sostenido / Si bemol 6\", \n",
    "    \"Db6.mp3\": r\"Do sostenido / Re bemol 6\", \"Eb6.mp3\": r\"Re sostenido / Mi bemol 6\", \n",
    "    \"Gb6.mp3\": r\"Fa sostenido / Sol bemol 6\", \"Ab6.mp3\": r\"Sol sostenido / La bemol 6\",\n",
    "\n",
    "    \"A7.mp3\": \"La7\", \"B7.mp3\": \"Si7\", \"C7.mp3\": \"Do7\", \"D7.mp3\": \"Re7\", \"E7.mp3\": \"Mi7\", \n",
    "    \"F7.mp3\": \"Fa7\", \"G7.mp3\": \"Sol7\", \"Bb7.mp3\": r\"La sostenido / Si bemol 7\", \n",
    "    \"Db7.mp3\": r\"Do sostenido / Re bemol 7\", \"Eb7.mp3\": r\"Re sostenido / Mi bemol 7\", \n",
    "    \"Gb7.mp3\": r\"Fa sostenido / Sol bemol 7\", \"Ab7.mp3\": r\"Sol sostenido / La bemol 7\",\n",
    "\n",
    "    \"A0.mp3\": \"La0\", \"B0.mp3\": \"Si0\", \"C0.mp3\": \"Do0\", \"D0.mp3\": \"Re0\", \"E0.mp3\": \"Mi0\", \n",
    "    \"F0.mp3\": \"Fa0\", \"G0.mp3\": \"Sol0\", \"Bb0.mp3\": r\"La sostenido / Si bemol 0\", \n",
    "    \"Db0.mp3\": r\"Do sostenido / Re bemol 0\", \"Eb0.mp3\": r\"Re sostenido / Mi bemol 0\", \n",
    "    \"Gb0.mp3\": r\"Fa sostenido / Sol bemol 0\", \"Ab0.mp3\": r\"Sol sostenido / La bemol 0\",\n",
    "    \"C8.mp3\": \"Do8\"\n",
    "}\n",
    "\n",
    "\n",
    "notas_correctas_wav_completo = {\n",
    "    \"4-a.wav\": \"La4\", \"4-b.wav\": \"Si4\", \"4-c.wav\": \"Do4\", \"4-d.wav\": \"Re4\", \"4-e.wav\": \"Mi4\", \n",
    "    \"4-f.wav\": \"Fa4\", \"4-g.wav\": \"Sol4\", \"4-as.wav\": r\"La sostenido / Si bemol 4\", \n",
    "    \"4-cs.wav\": r\"Do sostenido / Re bemol 4\", \"4-ds.wav\": r\"Re sostenido / Mi bemol 4\", \n",
    "    \"4-fs.wav\": r\"Fa sostenido / Sol bemol 4\", \"4-gs.wav\": r\"Sol sostenido / La bemol 4\",\n",
    "\n",
    "    \"3-a.wav\": \"La3\", \"3-b.wav\": \"Si3\", \"3-c.wav\": \"Do3\", \"3-d.wav\": \"Re3\", \"3-e.wav\": \"Mi3\", \n",
    "    \"3-f.wav\": \"Fa3\", \"3-g.wav\": \"Sol3\", \"3-as.wav\": r\"La sostenido / Si bemol 3\", \n",
    "    \"3-cs.wav\": r\"Do sostenido / Re bemol 3\", \"3-ds.wav\": r\"Re sostenido / Mi bemol 3\", \n",
    "    \"3-fs.wav\": r\"Fa sostenido / Sol bemol 3\", \"3-gs.wav\": r\"Sol sostenido / La bemol 3\",\n",
    "\n",
    "    \"5-a.wav\": \"La5\", \"5-b.wav\": \"Si5\", \"5-c.wav\": \"Do5\", \"5-d.wav\": \"Re5\", \"5-e.wav\": \"Mi5\", \n",
    "    \"5-f.wav\": \"Fa5\", \"5-g.wav\": \"Sol5\", \"5-as.wav\": r\"La sostenido / Si bemol 5\", \n",
    "    \"5-cs.wav\": r\"Do sostenido / Re bemol 5\", \"5-ds.wav\": r\"Re sostenido / Mi bemol 5\", \n",
    "    \"5-fs.wav\": r\"Fa sostenido / Sol bemol 5\", \"5-gs.wav\": r\"Sol sostenido / La bemol 5\",\n",
    "\n",
    "    \"2-a.wav\": \"La2\", \"2-b.wav\": \"Si2\", \"2-c.wav\": \"Do2\", \"2-d.wav\": \"Re2\", \"2-e.wav\": \"Mi2\", \n",
    "    \"2-f.wav\": \"Fa2\", \"2-g.wav\": \"Sol2\", \"2-as.wav\": r\"La sostenido / Si bemol 2\", \n",
    "    \"2-cs.wav\": r\"Do sostenido / Re bemol 2\", \"2-ds.wav\": r\"Re sostenido / Mi bemol 2\", \n",
    "    \"2-fs.wav\": r\"Fa sostenido / Sol bemol 2\", \"2-gs.wav\": r\"Sol sostenido / La bemol 2\",\n",
    "\n",
    "    \"1-a.wav\": \"La1\", \"1-b.wav\": \"Si1\", \"1-c.wav\": \"Do1\", \"1-d.wav\": \"Re1\", \"1-e.wav\": \"Mi1\", \n",
    "    \"1-f.wav\": \"Fa1\", \"1-g.wav\": \"Sol1\", \"1-as.wav\": r\"La sostenido / Si bemol 1\", \n",
    "    \"1-cs.wav\": r\"Do sostenido / Re bemol 1\", \"1-ds.wav\": r\"Re sostenido / Mi bemol 1\", \n",
    "    \"1-fs.wav\": r\"Fa sostenido / Sol bemol 1\", \"1-gs.wav\": r\"Sol sostenido / La bemol 1\",\n",
    "\n",
    "    \"6-a.wav\": \"La6\", \"6-b.wav\": \"Si6\", \"6-c.wav\": \"Do6\", \"6-d.wav\": \"Re6\", \"6-e.wav\": \"Mi6\", \n",
    "    \"6-f.wav\": \"Fa6\", \"6-g.wav\": \"Sol6\", \"6-as.wav\": r\"La sostenido / Si bemol 6\", \n",
    "    \"6-cs.wav\": r\"Do sostenido / Re bemol 6\", \"6-ds.wav\": r\"Re sostenido / Mi bemol 6\", \n",
    "    \"6-fs.wav\": r\"Fa sostenido / Sol bemol 6\", \"6-gs.wav\": r\"Sol sostenido / La bemol 6\",\n",
    "\n",
    "    \"7-a.wav\": \"La7\", \"7-b.wav\": \"Si7\", \"7-c.wav\": \"Do7\", \"7-d.wav\": \"Re7\", \"7-e.wav\": \"Mi7\", \n",
    "    \"7-f.wav\": \"Fa7\", \"7-g.wav\": \"Sol7\", \"7-as.wav\": r\"La sostenido / Si bemol 7\", \n",
    "    \"7-cs.wav\": r\"Do sostenido / Re bemol 7\", \"7-ds.wav\": r\"Re sostenido / Mi bemol 7\", \n",
    "    \"7-fs.wav\": r\"Fa sostenido / Sol bemol 7\", \"7-gs.wav\": r\"Sol sostenido / La bemol 7\",\n",
    "\n",
    "    \"0-a.wav\": \"La0\", \"0-b.wav\": \"Si0\", \"0-c.wav\": \"Do0\", \"0-d.wav\": \"Re0\", \"0-e.wav\": \"Mi0\", \n",
    "    \"0-f.wav\": \"Fa0\", \"0-g.wav\": \"Sol0\", \"0-as.wav\": r\"La sostenido / Si bemol 0\", \n",
    "    \"0-cs.wav\": r\"Do sostenido / Re bemol 0\", \"0-ds.wav\": r\"Re sostenido / Mi bemol 0\", \n",
    "    \"0-fs.wav\": r\"Fa sostenido / Sol bemol 0\", \"0-gs.wav\": r\"Sol sostenido / La bemol 0\",\n",
    "    \"8-c.wav\": \"Do8\"\n",
    "}\n"
   ]
  },
  {
   "cell_type": "markdown",
   "metadata": {},
   "source": [
    "#### Para archivos mp3"
   ]
  },
  {
   "cell_type": "code",
   "execution_count": 66,
   "metadata": {},
   "outputs": [],
   "source": [
    "#obtener el nombre de los archivos en el directorio carpeta_archivos_mp3\n",
    "import os\n",
    "archivos_mp3 = os.listdir(carpeta_archivos_mp3)"
   ]
  },
  {
   "cell_type": "code",
   "execution_count": 67,
   "metadata": {},
   "outputs": [
    {
     "name": "stdout",
     "output_type": "stream",
     "text": [
      "Correctas: 6/88 para porcentaje 0.01\n",
      "Correctas: 46/88 para porcentaje 0.05\n",
      "Correctas: 66/88 para porcentaje 0.1\n",
      "Correctas: 75/88 para porcentaje 0.5\n",
      "Correctas: 71/88 para porcentaje 0.6\n",
      "Correctas: 70/88 para porcentaje 0.7\n",
      "Correctas: 70/88 para porcentaje 0.8\n",
      "Correctas: 70/88 para porcentaje 0.9\n"
     ]
    }
   ],
   "source": [
    "for porcentaje in [0.01, 0.05, 0.1, 0.5, 0.6, 0.7, 0.8, 0.9]:\n",
    "    correctas = 0\n",
    "    for archivo in archivos_mp3:\n",
    "        data, sr = read_file(f\"{carpeta_archivos_mp3}/{archivo}\")\n",
    "        #plot_signal(data)\n",
    "        xf, yf = apply_fft(data, sr)\n",
    "        umbral = calcular_umbral_maximo(yf, porcentaje=porcentaje)\n",
    "        peaks = detectar_picos(yf, umbral=umbral)\n",
    "        #plot_fft(xf, yf, peaks)\n",
    "        fundamental_freq = xf[peaks[0]]\n",
    "        nearest_note, frecuencia_mas_cercana = get_nearest_note(fundamental_freq, notas_con_octavas)\n",
    "\n",
    "        if nearest_note == notas_correctas_mp3_completo[archivo]:\n",
    "            correctas += 1\n",
    "\n",
    "    print(f\"Correctas: {correctas}/{len(archivos_mp3)} para porcentaje {porcentaje}\")"
   ]
  },
  {
   "cell_type": "markdown",
   "metadata": {},
   "source": [
    "#### Para archivos wav"
   ]
  },
  {
   "cell_type": "code",
   "execution_count": 68,
   "metadata": {},
   "outputs": [
    {
     "name": "stderr",
     "output_type": "stream",
     "text": [
      "C:\\Users\\Alejandro\\AppData\\Local\\Temp\\ipykernel_12352\\1525891727.py:3: WavFileWarning: Chunk (non-data) not understood, skipping it.\n",
      "  sr, data = wavfile.read(file)\n"
     ]
    },
    {
     "name": "stdout",
     "output_type": "stream",
     "text": [
      "Correctas: 44/88 para porcentaje 0.01\n",
      "Correctas: 83/88 para porcentaje 0.05\n",
      "Correctas: 78/88 para porcentaje 0.1\n",
      "Correctas: 64/88 para porcentaje 0.5\n",
      "Correctas: 64/88 para porcentaje 0.6\n",
      "Correctas: 60/88 para porcentaje 0.7\n",
      "Correctas: 60/88 para porcentaje 0.8\n",
      "Correctas: 58/88 para porcentaje 0.9\n"
     ]
    }
   ],
   "source": [
    "archivos_wav = os.listdir(carpeta_archivos_wav)\n",
    "\n",
    "for porcentaje in [0.01, 0.05, 0.1, 0.5, 0.6, 0.7, 0.8, 0.9]:\n",
    "    correctas = 0\n",
    "    for archivo in archivos_wav:\n",
    "        data, sr = read_file(f\"{carpeta_archivos_wav}/{archivo}\")\n",
    "        #plot_signal(data)\n",
    "        xf, yf = apply_fft(data, sr)\n",
    "        umbral = calcular_umbral_maximo(yf, porcentaje=porcentaje)\n",
    "        peaks = detectar_picos(yf, umbral=umbral)\n",
    "        #plot_fft(xf, yf, peaks)\n",
    "        fundamental_freq = xf[peaks[0]]\n",
    "        nearest_note, frecuencia_mas_cercana = get_nearest_note(fundamental_freq, notas_con_octavas)\n",
    "\n",
    "        if nearest_note == notas_correctas_wav_completo[archivo]:\n",
    "            correctas += 1\n",
    "\n",
    "    print(f\"Correctas: {correctas}/{len(archivos_wav)} para porcentaje {porcentaje}\")"
   ]
  }
 ],
 "metadata": {
  "kernelspec": {
   "display_name": "piav",
   "language": "python",
   "name": "python3"
  },
  "language_info": {
   "codemirror_mode": {
    "name": "ipython",
    "version": 3
   },
   "file_extension": ".py",
   "mimetype": "text/x-python",
   "name": "python",
   "nbconvert_exporter": "python",
   "pygments_lexer": "ipython3",
   "version": "3.12.5"
  }
 },
 "nbformat": 4,
 "nbformat_minor": 2
}
